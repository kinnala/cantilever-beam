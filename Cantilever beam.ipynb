{
 "cells": [
  {
   "cell_type": "markdown",
   "metadata": {},
   "source": [
    "# Cantilever beam\n",
    "\n",
    "This is a simple example for simulating a cantilever beam using Python and scikit-fem.\n",
    "\n",
    "# Mesh creation\n",
    "\n",
    "First we create a mesh for the domain $(0, 5) \\times (0, 1)^2$ and use hexahedral elements."
   ]
  },
  {
   "cell_type": "code",
   "execution_count": 17,
   "metadata": {},
   "outputs": [],
   "source": [
    "import numpy as np\n",
    "\n",
    "from skfem import *\n",
    "\n",
    "m = MeshHex.init_tensor(\n",
    "    np.linspace(0, 5, 15),\n",
    "    np.linspace(0, 1, 5),\n",
    "    np.linspace(0, 1, 5),\n",
    ")\n",
    "\n",
    "# use trilinear hexahedra\n",
    "e = ElementVectorH1(ElementHex1())"
   ]
  },
  {
   "cell_type": "markdown",
   "metadata": {},
   "source": [
    "# Build stiffness matrix\n",
    "\n",
    "Next we build the system matrix (aka. stiffness matrix in the context of elasticity)."
   ]
  },
  {
   "cell_type": "code",
   "execution_count": 18,
   "metadata": {},
   "outputs": [],
   "source": [
    "from skfem.models.elasticity import linear_elasticity, lame_parameters\n",
    "\n",
    "basis = InteriorBasis(m, e)\n",
    "\n",
    "# set material parameters, Young's modulus and Poisson ratio\n",
    "K = linear_elasticity(*lame_parameters(1e9, 0.3)).assemble(basis)"
   ]
  },
  {
   "cell_type": "markdown",
   "metadata": {},
   "source": [
    "# Build load vector\n",
    "\n",
    "Set downward loading at $x=5$."
   ]
  },
  {
   "cell_type": "code",
   "execution_count": 19,
   "metadata": {},
   "outputs": [],
   "source": [
    "facet_basis = FacetBasis(m, e, facets=m.facets_satisfying(lambda x: x[0] == 5.0))\n",
    "\n",
    "@LinearForm\n",
    "def linf(v, w):\n",
    "    # 10 N / m^2\n",
    "    return 10 * v.value[1]\n",
    "\n",
    "f = linf.assemble(facet_basis)"
   ]
  },
  {
   "cell_type": "markdown",
   "metadata": {},
   "source": [
    "# Solve displacements\n",
    "\n",
    "Also set displacement to zero at $x=0$."
   ]
  },
  {
   "cell_type": "code",
   "execution_count": 20,
   "metadata": {},
   "outputs": [],
   "source": [
    "x = solve(*condense(K, f, D=basis.get_dofs(lambda x: x[0] == 0.0)))"
   ]
  },
  {
   "cell_type": "markdown",
   "metadata": {},
   "source": [
    "# Calculate $xx$-component of strain tensor\n",
    "\n",
    "Calculates its mean value in each element."
   ]
  },
  {
   "cell_type": "code",
   "execution_count": 21,
   "metadata": {},
   "outputs": [],
   "source": [
    "@Functional\n",
    "def strain(w):\n",
    "    from skfem.helpers import sym_grad\n",
    "    return sym_grad(w['disp'])[0, 0]\n",
    "\n",
    "exx = strain.elemental(basis, disp=basis.interpolate(x))"
   ]
  },
  {
   "cell_type": "markdown",
   "metadata": {},
   "source": [
    "# Displace mesh and save to vtk"
   ]
  },
  {
   "cell_type": "code",
   "execution_count": 22,
   "metadata": {},
   "outputs": [],
   "source": [
    "for i in [0, 1, 2]:\n",
    "    m.p[i] += 2e5 * x[basis.nodal_dofs[i]]  # scaling factor 1e5\n",
    "m.save('beam.vtk', point_data={}, cell_data={'exx': exx})"
   ]
  },
  {
   "cell_type": "markdown",
   "metadata": {},
   "source": [
    "# Visualize in Paraview\n",
    "\n",
    "![Visualization in Paraview](beam.png)"
   ]
  },
  {
   "cell_type": "code",
   "execution_count": null,
   "metadata": {},
   "outputs": [],
   "source": []
  }
 ],
 "metadata": {
  "kernelspec": {
   "display_name": "Python 3",
   "language": "python",
   "name": "python3"
  },
  "language_info": {
   "codemirror_mode": {
    "name": "ipython",
    "version": 3
   },
   "file_extension": ".py",
   "mimetype": "text/x-python",
   "name": "python",
   "nbconvert_exporter": "python",
   "pygments_lexer": "ipython3",
   "version": "3.7.7"
  }
 },
 "nbformat": 4,
 "nbformat_minor": 4
}
